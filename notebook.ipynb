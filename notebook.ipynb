{
  "cells": [
    {
      "metadata": {
        "_cell_guid": "21034e8e-696d-40be-bcc7-40cc53b2db26",
        "_uuid": "8d85e88cff2f5c01d63024eddd6b9cc56947d0b8",
        "collapsed": true
      },
      "cell_type": "markdown",
      "source": "**Predicting cab booking cancellations**\n\nIn this kernal, I am going to predict cab booking cancellations. Ensemble learning methods like Bagging Classifier and Voting Classifiers are used to boost the accuracy of predictions. If you are new to the words \"Ensemble Learning\", it's advisable to visit this link -  [Ensemble Learning Sklearn](http://scikit-learn.org/stable/modules/ensemble.html). \n\n**Contents**\n1. Import Libraries (Includes ensemble learners).\n2. Load the dataset and understanding the dataset.\n3. Data Cleaning.\n4. Feature Importance.\n5. Feature Heatmap.\n6. Ensemble Learning Methods\n7. Predictions.\n"
    },
    {
      "metadata": {
        "_uuid": "a335c5c037f7abffcacbf487c49eb72a1f8bcf1e"
      },
      "cell_type": "markdown",
      "source": "**1. Import Libraries**\n\n* Import the libraries needed to work on the dataset."
    },
    {
      "metadata": {
        "_cell_guid": "e489e293-efa6-49ee-963a-b11c12a9d1b1",
        "_uuid": "e6d00f872b7af0d65ef88f0e9ee2be8b10018084",
        "collapsed": true,
        "trusted": false
      },
      "cell_type": "code",
      "source": "import pandas as pd\nimport numpy as np\nimport seaborn as sns\nimport matplotlib.pyplot as plt\nfrom sklearn.model_selection import train_test_split\nfrom sklearn.tree import DecisionTreeClassifier\nfrom sklearn.ensemble import RandomForestClassifier, BaggingClassifier, VotingClassifier\nfrom sklearn.svm import SVC\nfrom sklearn.metrics import confusion_matrix, mean_squared_error\nfrom sklearn.linear_model import LogisticRegression",
      "execution_count": 1,
      "outputs": []
    },
    {
      "metadata": {
        "_uuid": "cddb6df731ef30a14d762381dc80654718fae2ca"
      },
      "cell_type": "markdown",
      "source": "**2. Load Dataset and undertanding the dataset**\n\n* Load the dataset and look at the shape and null values. Null values are needed for basic data cleaning."
    },
    {
      "metadata": {
        "trusted": false,
        "_uuid": "2e69ce18f755e7710bd01a4d990330efbf823c89"
      },
      "cell_type": "code",
      "source": "df = pd.read_csv('../input/Kaggle_YourCabs_training.csv')\nprint (df.columns)\n\nprint (df.shape)\ndf.isnull().sum()",
      "execution_count": 2,
      "outputs": [
        {
          "name": "stdout",
          "output_type": "stream",
          "text": "Index(['id', 'user_id', 'vehicle_model_id', 'package_id', 'travel_type_id',\n       'from_area_id', 'to_area_id', 'from_city_id', 'to_city_id', 'from_date',\n       'to_date', 'online_booking', 'mobile_site_booking', 'booking_created',\n       'from_lat', 'from_long', 'to_lat', 'to_long', 'Car_Cancellation',\n       'Cost_of_error'],\n      dtype='object')\n(43431, 20)\n"
        },
        {
          "data": {
            "text/plain": "id                         0\nuser_id                    0\nvehicle_model_id           0\npackage_id             35881\ntravel_type_id             0\nfrom_area_id              88\nto_area_id              9138\nfrom_city_id           27086\nto_city_id             41843\nfrom_date                  0\nto_date                17890\nonline_booking             0\nmobile_site_booking        0\nbooking_created            0\nfrom_lat                  93\nfrom_long                 93\nto_lat                  9138\nto_long                 9138\nCar_Cancellation           0\nCost_of_error              0\ndtype: int64"
          },
          "execution_count": 2,
          "metadata": {},
          "output_type": "execute_result"
        }
      ]
    },
    {
      "metadata": {
        "_uuid": "673ac5438b12b7d8332a0d7f6cd061d00004660f"
      },
      "cell_type": "markdown",
      "source": "**3. Data Cleaning**\n\n* Drop the columns that are not contributing the predictions. These are to be choosen on the basic observations and null value observations."
    },
    {
      "metadata": {
        "_cell_guid": "c1caf768-dfc8-4250-87ff-53aa41e850b8",
        "_uuid": "81be148c59759b91fd071945e39567e896c1c3be",
        "trusted": false
      },
      "cell_type": "code",
      "source": "df = df.drop(['package_id', 'to_city_id', 'from_city_id', 'from_date', 'to_date', 'from_lat', 'from_long', \n              'to_lat', 'to_long', 'from_area_id', 'to_area_id', 'id', 'booking_created'], axis = 1)\n\ndf.isnull().sum()",
      "execution_count": 3,
      "outputs": [
        {
          "data": {
            "text/plain": "user_id                0\nvehicle_model_id       0\ntravel_type_id         0\nonline_booking         0\nmobile_site_booking    0\nCar_Cancellation       0\nCost_of_error          0\ndtype: int64"
          },
          "execution_count": 3,
          "metadata": {},
          "output_type": "execute_result"
        }
      ]
    },
    {
      "metadata": {
        "_cell_guid": "009a8c9b-73ce-4321-b72b-5be903974002",
        "_uuid": "4cc5d6cdcb6e0730d4eafca6c00e776506ebf096",
        "collapsed": true,
        "trusted": false
      },
      "cell_type": "code",
      "source": "X = df[['Car_Cancellation']]\ny = df[['vehicle_model_id', 'travel_type_id', 'online_booking', 'mobile_site_booking', 'Cost_of_error']]\n\nX_train, X_test, y_train, y_test = train_test_split(X, y, test_size=0.2)",
      "execution_count": 4,
      "outputs": []
    },
    {
      "metadata": {
        "_uuid": "4f61d1748c464f78cbfb0d4881683540d87269e4"
      },
      "cell_type": "markdown",
      "source": "**4. Feature Importance**\n\n* Feature Importance is calculated using Random Forest Classifier. It can be clearly observed that \"Cost of Error\" is out performer."
    },
    {
      "metadata": {
        "_cell_guid": "6569bb6f-1664-43c1-a13f-5dd5ef0fcde9",
        "_uuid": "0d65748b1ac785d440665aa9ddd98226ac0028fd",
        "trusted": false
      },
      "cell_type": "code",
      "source": "%matplotlib inline\n\nrf = RandomForestClassifier()\nrf.fit(y.values, X.values.ravel())\n\nimportance = rf.feature_importances_\nimportance = pd.DataFrame(importance, index = y.columns, columns=['Importance'])\n\nfeats = {}\nfor feature, importance in zip(y.columns,rf.feature_importances_):\n    feats[feature] = importance\n    \nprint (feats)\nimportances = pd.DataFrame.from_dict(feats, orient='index').rename(columns={0: 'Gini-importance'})\nimportances.sort_values(by='Gini-importance').plot(kind='bar', rot=45)",
      "execution_count": 5,
      "outputs": [
        {
          "name": "stdout",
          "output_type": "stream",
          "text": "{'vehicle_model_id': 0.004311058205360982, 'travel_type_id': 0.0007530307581032128, 'online_booking': 0.0030970996291782077, 'mobile_site_booking': 0.003259578358412728, 'Cost_of_error': 0.9885792330489449}\n"
        },
        {
          "data": {
            "text/plain": "<matplotlib.axes._subplots.AxesSubplot at 0x7f465655cc88>"
          },
          "execution_count": 5,
          "metadata": {},
          "output_type": "execute_result"
        },
        {
          "data": {
            "image/png": "[encoded data removed]",
            "text/plain": "<matplotlib.figure.Figure at 0x7f465655c400>"
          },
          "metadata": {},
          "output_type": "display_data"
        }
      ]
    },
    {
      "metadata": {
        "_uuid": "1af4a7745208c54ebbe49bb7d666ef522983e3f6"
      },
      "cell_type": "markdown",
      "source": "**5. Feature HeatMap**\n\n* Correlation of features on each other can be observed using seaborn. It could be observed that most of the features are independent of others making it easy to predict."
    },
    {
      "metadata": {
        "_cell_guid": "0352ebbe-db72-496b-aa72-a3a0da08a93c",
        "_uuid": "26711fdfdf2fc3021e1b46340ea7a690c2720561",
        "trusted": false
      },
      "cell_type": "code",
      "source": "y_cols = y.columns.tolist()\ncorr = df[y_cols].corr()\n\nsns.heatmap(corr)",
      "execution_count": 6,
      "outputs": [
        {
          "data": {
            "text/plain": "<matplotlib.axes._subplots.AxesSubplot at 0x7f46afa343c8>"
          },
          "execution_count": 6,
          "metadata": {},
          "output_type": "execute_result"
        },
        {
          "data": {
            "image/png": "[encoded data removed]",
            "text/plain": "<matplotlib.figure.Figure at 0x7f4656174eb8>"
          },
          "metadata": {},
          "output_type": "display_data"
        }
      ]
    },
    {
      "metadata": {
        "_uuid": "4b5a08877f3b5864f237eb057aacc5526bfc8567"
      },
      "cell_type": "markdown",
      "source": "**6. Ensemble Learning Models**\n\n* Logistic Regression, Random Forest Classifier, Bagging Classifier and Support Vector Machine are used vote with Voting Classifier, hard voting is made. This model is used to fit and predict data in the following sections."
    },
    {
      "metadata": {
        "_cell_guid": "547362f4-e020-4bcb-b41c-d4dce7ae4a3b",
        "_uuid": "ff4e8d7255e8d75781977e696707ea02f9a8f5c1",
        "collapsed": true,
        "trusted": false
      },
      "cell_type": "code",
      "source": "lr = LogisticRegression()\nrf = RandomForestClassifier(n_estimators=10)\nbg = BaggingClassifier(DecisionTreeClassifier(), max_samples = 0.5)\nclf = SVC(kernel = 'linear')\n\nevc = VotingClassifier(estimators =[('lr', lr),('rf', rf),('bg', bg),('clf', clf)], voting = 'hard')",
      "execution_count": 7,
      "outputs": []
    },
    {
      "metadata": {
        "_uuid": "66c52bddc79a45a392cdaf4ade53f92184592358"
      },
      "cell_type": "markdown",
      "source": "**7. Making Predictions and Testing**\n\n* The model obtained in the above section is used to fit and predict data.\n* Mean Square error and Confusion matrix are provided to give error magnitudes."
    },
    {
      "metadata": {
        "_cell_guid": "3752ad14-6089-4ce7-a0d2-db21a154ff4c",
        "_kg_hide-output": false,
        "_uuid": "c7c09a1649ad3fcbea036e028aae3cf8ed0cdfc6",
        "trusted": false
      },
      "cell_type": "code",
      "source": "evc.fit(y_train, X_train)\n\npredicted_data = evc.predict(y_test)\nprint ('Mean Squared Error:')\nprint (mean_squared_error(X_test, predicted_data))\nprint ('Confusion Matrix:')\nprint (confusion_matrix(X_test, predicted_data))",
      "execution_count": 9,
      "outputs": [
        {
          "name": "stderr",
          "output_type": "stream",
          "text": "/opt/conda/lib/python3.6/site-packages/sklearn/preprocessing/label.py:95: DataConversionWarning: A column-vector y was passed when a 1d array was expected. Please change the shape of y to (n_samples, ), for example using ravel().\n  y = column_or_1d(y, warn=True)\n/opt/conda/lib/python3.6/site-packages/sklearn/preprocessing/label.py:128: DataConversionWarning: A column-vector y was passed when a 1d array was expected. Please change the shape of y to (n_samples, ), for example using ravel().\n  y = column_or_1d(y, warn=True)\n"
        },
        {
          "name": "stdout",
          "output_type": "stream",
          "text": "Mean Squared Error:\n0.0002302290779325429\nConfusion Matrix:\n[[8049    0]\n [   2  636]]\n"
        },
        {
          "name": "stderr",
          "output_type": "stream",
          "text": "/opt/conda/lib/python3.6/site-packages/sklearn/preprocessing/label.py:151: DeprecationWarning: The truth value of an empty array is ambiguous. Returning False, but in future this will result in an error. Use `array.size > 0` to check that an array is not empty.\n  if diff:\n"
        }
      ]
    }
  ],
  "metadata": {
    "kernelspec": {
      "display_name": "Python 3",
      "language": "python",
      "name": "python3"
    },
    "language_info": {
      "codemirror_mode": {
        "name": "ipython",
        "version": 3
      },
      "file_extension": ".py",
      "mimetype": "text/x-python",
      "name": "python",
      "nbconvert_exporter": "python",
      "pygments_lexer": "ipython3",
      "version": "3.6.4"
    }
  },
  "nbformat": 4,
  "nbformat_minor": 1
}